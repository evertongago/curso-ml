{
 "cells": [
  {
   "cell_type": "markdown",
   "id": "68b728f3",
   "metadata": {},
   "source": [
    "# INF-0334 - Tópicos em Engenharia de Software I (Machine Learning)"
   ]
  },
  {
   "cell_type": "markdown",
   "id": "a1bfb6db",
   "metadata": {},
   "source": [
    "## Aula 1"
   ]
  },
  {
   "cell_type": "markdown",
   "id": "b6f6beda",
   "metadata": {},
   "source": [
    "- Apresentação da disciplina\n",
    "- Introdução ao aprendizado de máquina <i>(machine learning)</i>\n",
    "- Preparação do ambiente de trabalho e requisitos para o curso"
   ]
  },
  {
   "cell_type": "markdown",
   "id": "eda8e2a1",
   "metadata": {},
   "source": [
    "## Introdução - Aprendizado de Máquina"
   ]
  },
  {
   "cell_type": "markdown",
   "id": "1d266344",
   "metadata": {},
   "source": [
    "<div style=\"text-align:justify\">\n",
    "Aprendizado de Máquina é uma área de IA cujo objetivo é construir sistemas computacionais capazes de adquirir conhecimento de forma automática. Um sistema de aprendizado é um programa de computador que toma decisões baseado em experiências acumuladas através da solução problemas anteriormente resolvidos.\n",
    "</div>\n",
    "<br>\n",
    "<u>Por exemplo</u>:\n",
    "<br>\n",
    "<div style=\"text-align:justify\">\n",
    "Ao apresentarmos para um algoritmos de aprendizado de máquina centenas de imagens rotuladas de cachorros e gatos, este algoritmo será capaz de rotular (classificar) uma nova imagem, indicando a qual categoria (cachorro ou gato) essa nova imagem pertence.\n",
    "</div>"
   ]
  },
  {
   "cell_type": "markdown",
   "id": "27f37a4e",
   "metadata": {},
   "source": [
    "<div style=\"text-align:justify\">\n",
    "Nas duas últimas décadas, o aprendizado de máquina tornou-se um dos pilares da tecnologia da informação e, com isso, uma parte central das tecnologias modernas. Lidamos com soluções baseadas em aprendizado de máquina o tempo todo: quando vamos tirar um foto com o celular, quando vamos comprar produtos e um e-commerce e até mesmo em nossas redes sociais, quando recebemos indicações de amigos. A crescente quantidade de dados disponíveis torna evidente que a análise inteligente de dados é cada vez mais necessária para o progresso tecnológico e competitivo das organizações.\n",
    "</div>\n",
    "<br>\n",
    "Vamos compreender melhor os métodos de aprendizagem:"
   ]
  },
  {
   "cell_type": "markdown",
   "id": "8752f059",
   "metadata": {},
   "source": [
    "- <b>Aprendizagem supervisionada</b>: Utilizada quando temos uma associação direta entre as entradas e as saídas\n",
    "- <b>Aprendizagem não-supervisionada</b>: Serve para descobrir relações implícitas em dados não rotulados\n",
    "- <b>Aprendizagem por reforço</b>: E um processo de otimização por meio da prática direta (tentativa e erro)"
   ]
  },
  {
   "cell_type": "markdown",
   "id": "9d6e431f",
   "metadata": {},
   "source": [
    "Esse curso dará foco no <b><u>aprendizado supervisionado</u></b>."
   ]
  },
  {
   "cell_type": "markdown",
   "id": "74137d88",
   "metadata": {},
   "source": [
    "## Preparação do Ambiente"
   ]
  },
  {
   "cell_type": "markdown",
   "id": "77586a4d",
   "metadata": {},
   "source": [
    "<div style=\"text-align:justify\">\n",
    "Neste curso utilizaremos a linguagem de programação <b>Python</b> e o <b>Jupyter Notebook</b> será nosso ambiente de desenvolvimento e  experimentação. Também vamos utilizar alguns pacotes adicionais, tais como: <b>TensorFlow</b>, <b>Numpy</b>, <b>Pandas</b> e <b>ML Extends</b>.\n",
    "</div>\n",
    "<br>\n",
    "A seguir, as versões utilizadas do Python e dos pacotes adicionais:"
   ]
  },
  {
   "cell_type": "markdown",
   "id": "9b371c0b",
   "metadata": {},
   "source": [
    "#### Python:"
   ]
  },
  {
   "cell_type": "code",
   "execution_count": 2,
   "id": "e2d8e666",
   "metadata": {},
   "outputs": [
    {
     "name": "stdout",
     "output_type": "stream",
     "text": [
      "Python 3.8.12\r\n"
     ]
    }
   ],
   "source": [
    "!python --version"
   ]
  },
  {
   "cell_type": "markdown",
   "id": "616956ff",
   "metadata": {},
   "source": [
    "#### TensorFlow:"
   ]
  },
  {
   "cell_type": "code",
   "execution_count": 3,
   "id": "234dec54",
   "metadata": {},
   "outputs": [
    {
     "name": "stderr",
     "output_type": "stream",
     "text": [
      "2021-10-31 12:51:12.675763: W tensorflow/stream_executor/platform/default/dso_loader.cc:64] Could not load dynamic library 'libcudart.so.11.0'; dlerror: libcudart.so.11.0: cannot open shared object file: No such file or directory\n",
      "2021-10-31 12:51:12.675882: I tensorflow/stream_executor/cuda/cudart_stub.cc:29] Ignore above cudart dlerror if you do not have a GPU set up on your machine.\n"
     ]
    },
    {
     "data": {
      "text/plain": [
       "'2.6.0'"
      ]
     },
     "execution_count": 3,
     "metadata": {},
     "output_type": "execute_result"
    }
   ],
   "source": [
    "import tensorflow\n",
    "tensorflow.__version__"
   ]
  },
  {
   "cell_type": "markdown",
   "id": "4fb7c001",
   "metadata": {},
   "source": [
    "#### Numpy:"
   ]
  },
  {
   "cell_type": "code",
   "execution_count": 4,
   "id": "0b1f34f2",
   "metadata": {},
   "outputs": [
    {
     "data": {
      "text/plain": [
       "'1.19.5'"
      ]
     },
     "execution_count": 4,
     "metadata": {},
     "output_type": "execute_result"
    }
   ],
   "source": [
    "import numpy\n",
    "numpy.__version__"
   ]
  },
  {
   "cell_type": "markdown",
   "id": "fafce502",
   "metadata": {},
   "source": [
    "#### Pandas:"
   ]
  },
  {
   "cell_type": "code",
   "execution_count": 4,
   "id": "6cf07e43",
   "metadata": {},
   "outputs": [
    {
     "data": {
      "text/plain": [
       "'1.3.3'"
      ]
     },
     "execution_count": 4,
     "metadata": {},
     "output_type": "execute_result"
    }
   ],
   "source": [
    "import pandas\n",
    "pandas.__version__"
   ]
  },
  {
   "cell_type": "code",
   "execution_count": 1,
   "id": "cc69db6d",
   "metadata": {},
   "outputs": [
    {
     "data": {
      "text/plain": [
       "'0.19.0'"
      ]
     },
     "execution_count": 1,
     "metadata": {},
     "output_type": "execute_result"
    }
   ],
   "source": [
    "import mlxtend\n",
    "mlxtend.__version__"
   ]
  },
  {
   "cell_type": "markdown",
   "id": "060d2c58",
   "metadata": {},
   "source": [
    "#### Jupyter Notebook\n",
    "\n",
    "https://jupyter.org/"
   ]
  },
  {
   "cell_type": "markdown",
   "id": "f670326b",
   "metadata": {},
   "source": [
    "<b><u>Nota</u></b>: Para instalar os pacotes adicionais, utilize os gerenciadores de pacotes <u>[pip](https://pypi.org/project/pip/)</u> ou <u>[conda](https://docs.conda.io/en/latest/)</u>."
   ]
  }
 ],
 "metadata": {
  "kernelspec": {
   "display_name": "Python 3 (ipykernel)",
   "language": "python",
   "name": "python3"
  },
  "language_info": {
   "codemirror_mode": {
    "name": "ipython",
    "version": 3
   },
   "file_extension": ".py",
   "mimetype": "text/x-python",
   "name": "python",
   "nbconvert_exporter": "python",
   "pygments_lexer": "ipython3",
   "version": "3.8.12"
  }
 },
 "nbformat": 4,
 "nbformat_minor": 5
}
