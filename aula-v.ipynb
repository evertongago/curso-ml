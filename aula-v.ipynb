{
 "cells": [
  {
   "cell_type": "markdown",
   "id": "68b728f3",
   "metadata": {},
   "source": [
    "# INF-0334 - Tópicos em Engenharia de Software I (Machine Learning)"
   ]
  },
  {
   "cell_type": "markdown",
   "id": "a1bfb6db",
   "metadata": {},
   "source": [
    "## Aula 5"
   ]
  },
  {
   "cell_type": "markdown",
   "id": "b6f6beda",
   "metadata": {},
   "source": [
    "- Como se aprofundar e encerramento"
   ]
  },
  {
   "cell_type": "markdown",
   "id": "a4b56d98",
   "metadata": {},
   "source": [
    "### Repositório"
   ]
  },
  {
   "cell_type": "markdown",
   "id": "a67f3e73",
   "metadata": {},
   "source": [
    "https://github.com/evertongago/curso-ml"
   ]
  },
  {
   "cell_type": "markdown",
   "id": "ea1f9dcc",
   "metadata": {},
   "source": [
    "### Referências"
   ]
  },
  {
   "cell_type": "markdown",
   "id": "ce17f63d",
   "metadata": {},
   "source": [
    "- https://www.deeplearningbook.org/\n",
    "- https://www.tensorflow.org/guide\n",
    "- https://www.asimovinstitute.org/neural-network-zoo/"
   ]
  },
  {
   "cell_type": "markdown",
   "id": "891ca775",
   "metadata": {},
   "source": [
    "### Artigos Variados"
   ]
  },
  {
   "cell_type": "markdown",
   "id": "a7b54460",
   "metadata": {},
   "source": [
    "- https://medium.com/search?q=machine%20learning"
   ]
  }
 ],
 "metadata": {
  "kernelspec": {
   "display_name": "Python 3 (ipykernel)",
   "language": "python",
   "name": "python3"
  },
  "language_info": {
   "codemirror_mode": {
    "name": "ipython",
    "version": 3
   },
   "file_extension": ".py",
   "mimetype": "text/x-python",
   "name": "python",
   "nbconvert_exporter": "python",
   "pygments_lexer": "ipython3",
   "version": "3.8.12"
  }
 },
 "nbformat": 4,
 "nbformat_minor": 5
}
