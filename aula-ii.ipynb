{
 "cells": [
  {
   "cell_type": "markdown",
   "id": "68b728f3",
   "metadata": {},
   "source": [
    "# INF-0334 - Tópicos em Engenharia de Software I (Machine Learning)"
   ]
  },
  {
   "cell_type": "markdown",
   "id": "a1bfb6db",
   "metadata": {},
   "source": [
    "## Aula 2"
   ]
  },
  {
   "cell_type": "markdown",
   "id": "b6f6beda",
   "metadata": {},
   "source": [
    "- Redes Neurais Artificiais\n",
    "- Visão geral e fundamentação teórica\n",
    "- Experimento prático"
   ]
  },
  {
   "cell_type": "markdown",
   "id": "eda8e2a1",
   "metadata": {},
   "source": [
    "## Redes Neurais Artificiais"
   ]
  },
  {
   "cell_type": "markdown",
   "id": "1d266344",
   "metadata": {},
   "source": [
    "<div style=\"text-align:justify\">\n",
    "Redes Neurais Artificiais são técnicas computacionais que apresentam um modelo matemático inspirado na estrutura neural de organismos inteligentes e que adquirem conhecimento através da experiência. Uma grande rede neural artificial pode ter centenas ou milhares de unidades de processamento; já o cérebro de um mamífero pode ter muitos bilhões de neurônios.\n",
    "</div>\n",
    "<br>\n",
    "<div style=\"text-align:justify\">\n",
    "Um histórico resumido sobre Redes Neurais Artificiais deve começar por três das mais importantes publicações iniciais, desenvolvidas por: McCulloch e Pitts (1943), Hebb (1949), e Rosemblatt (1958). Estas publicações introduziram o primeiro modelo de redes neurais simulando máquinas, o modelo básico de rede de auto-organização, e o modelo Perceptron de aprendizado supervisionado, respectivamente. Alguns históricos sobre a área costumam “pular” os anos 60 e 70 e apontar um reínicio da área com a publicação dos trabalhos de Hopfield (1982) relatando a utilização de redes simétricas para otimização e de Rumelhart, Hinton e Williams que introduziram o poderoso método Backpropagation.\n",
    "</div>\n",
    "<br>\n",
    "A seguir, algumas suas aplicações:\n",
    "\n",
    "- Classificação\n",
    "- Máquina de tradução\n",
    "- Detecção de anomalias\n",
    "- Reconhecimento de fala\n",
    "- Processamento de imagens e visão computacional"
   ]
  },
  {
   "cell_type": "markdown",
   "id": "3f54addd",
   "metadata": {},
   "source": [
    "## Fundamentação Teórica"
   ]
  },
  {
   "cell_type": "markdown",
   "id": "9a3592fb",
   "metadata": {},
   "source": [
    "<div style=\"text-align:justify\">\n",
    "Nesta aula vamos compreender os fundamentos teóricos envolvidos na construção de uma Rede Neural Artificial. Para isso, vamos nos apoiar em uma contextualização teórica leve; deixando de lado alguns formalismos matemáticos. Tais formalismos são essenciais para uma compreensão teórica profunda, mas não serão abordados nessa aula.\n",
    "<div>"
   ]
  },
  {
   "cell_type": "markdown",
   "id": "94568e42",
   "metadata": {},
   "source": [
    "#### Arquitetura - Perceptron de Multiplas Camadas (MLP)"
   ]
  },
  {
   "cell_type": "markdown",
   "id": "3242a15f",
   "metadata": {},
   "source": [
    "<figure>\n",
    "  <img src=\"images/mlp.png\">\n",
    "  <figcaption style=\"text-align:center;font-style: italic;padding: 2px;\">Figura 1 - Multilayer Perceptron (MLP).</figcaption>\n",
    "</figure>"
   ]
  },
  {
   "cell_type": "markdown",
   "id": "c32c4566",
   "metadata": {},
   "source": [
    "<div style=\"text-align:justify\">\n",
    "Na figura acima podemos observar uma rede que possui três camadas: Camada de entrada, camada oculta e camada de saída. A <u>camada de entrada</u> é onde os dados serão recebidos, cada neurônio dessa camada representa um atributo de informação, por exemplo: Imagine considerarmos os atributos (features): altura, comprimento, peso_medio, numero_patas e habitat para classificar se um animal é um mamífero. A camada de entrada terá o mesmo número de elementos que o número de atributos.\n",
    "</div>\n",
    "<br>\n",
    "<div style=\"text-align:justify\">\n",
    "A <u>camada oculta</u> (ou camada intermediária) é considerada a camada de processamento dos dados. Em geral os neurônios dessa camada integram os sinais de entrada, ponderado-os pelos pesos W<sub>ij</sub> da camada anterior. Depois de integrar os sinais, aplicamos uma <code>função de transferência</code> e transferimos o sinal modificado para a camada seguinte.\n",
    "</div>\n",
    "<br>\n",
    "<div style=\"text-align:justify\">\n",
    "O mesmo procedimento é repetido para todas as camadas ocultas (quando houver mais de uma) e para a <u>camada de saída</u>. A camada de saída também possui uma função de transferência, que geralmente é diferente da função de transferência utilizada nas camadas intermediárias. Veremos mais detalhes sobre isso a frente.\n",
    "</div>\n",
    "<br>\n",
    "<div style=\"text-align:justify\">\n",
    "Denominamos <code>feed forward</code> a passagem de um sinal pela rede em direção à saída. Nós podemos escrever esse processo de maneira resumida através da forma matricial. Veja:\n",
    "</div>"
   ]
  },
  {
   "cell_type": "markdown",
   "id": "ab03be33",
   "metadata": {},
   "source": [
    "$$ Y = {\\textbf{F}_1}(\\sum_{i=0}^{n} X{\\textbf{W}_1}^T).{\\textbf{F}_2}(\\sum_{i=0}^{n} {\\textbf{W}_1}{\\textbf{W}_2}^T) $$"
   ]
  },
  {
   "cell_type": "markdown",
   "id": "fa95b614",
   "metadata": {},
   "source": [
    "#### Treinamento"
   ]
  },
  {
   "cell_type": "markdown",
   "id": "bf90e27b",
   "metadata": {},
   "source": [
    "<div style=\"text-align:justify\">\n",
    "O treinamento de uma rede neural artificial consiste em modificar os coeficientes W<sub>ij</sub>, de modo que ao propagar um novo sinal em direção à saída da rede (<code>feed forward</code>), esse sinal recebe uma classificação. Para tanto, precisamos introduzir dois novos elementos: a <code>função custo</code> e a <code>função de otimização</code>.\n",
    "</div>\n",
    "<br>\n",
    "Vejamos a seguir um exemplo destas funções. Para simplificar nosso entendimento, vamos considerar uma rede neural sem camada oculta:"
   ]
  },
  {
   "cell_type": "markdown",
   "id": "805de053",
   "metadata": {},
   "source": [
    "<figure>\n",
    "  <img src=\"images/perceptron.png\">\n",
    "  <figcaption style=\"text-align:center;font-style: italic;padding: 2px;\">Figura 2 - Single Perceptron (SLP).</figcaption>\n",
    "</figure>"
   ]
  },
  {
   "cell_type": "markdown",
   "id": "3e2c81d2",
   "metadata": {},
   "source": [
    "Neste caso, a propagação em direção à saída é dada por:"
   ]
  },
  {
   "cell_type": "markdown",
   "id": "cc89c2f1",
   "metadata": {},
   "source": [
    "$$ Y = {\\textbf{F}}(\\sum_{i=0}^{n} X{\\textbf{W}}^T) $$"
   ]
  },
  {
   "cell_type": "markdown",
   "id": "530ac65f",
   "metadata": {},
   "source": [
    "A <b><u>função de custo</u></b> depende do conjunto de treinamento ($y_i$) e dos valores de predição ($\\hat{y_i}$):\n",
    "\n",
    "$$ J(\\hat{y_i},y_i) = \\frac{1}{M} \\sum_{i=0}^{M-1} (\\hat{y_i} - y_i)^2 $$\n",
    "\n",
    "Trocando $\\hat{y_i}$ pelo valor da predição, a função de custo depende das amostras de treinamento $x_i, y_i$ e \n",
    "do parâmetro de predição $w_i$:\n",
    "\n",
    "$$ J(x_i,y_i,w_i) = \\frac{1}{M} \\sum_{i=0}^{M-1} ((w_0 + w_1\\ x_i) - y_i)^2 $$ \n",
    "\n",
    "Buscamos encontrar os valores de $w_i$ para que $J(x_i,y_i,w_i)$ seja mínimo no conjunto de treinamento ($x_i, y_i$)."
   ]
  },
  {
   "cell_type": "markdown",
   "id": "fb2e8d98",
   "metadata": {},
   "source": [
    "Em notação matricial, o cálculo do custo para $N$ amostras fica:\n",
    "\n",
    "$$ \\mathbf{E} = \\hat{\\mathbf{Y}} - \\mathbf{Y} = \\mathbf{X} \\mathbf{W}^T - \\mathbf{Y} $$\n",
    "\n",
    "$$ J(\\mathbf{W}) = \\frac{1}{N} \\left \\Vert \\mathbf{E} \\right \\|^2 $$\n",
    "\n",
    "onde $\\left \\Vert \\textbf{E} \\right \\|^2$ é a norma do vetor $\\textbf{E}$ ao quadrado, dado por:\n",
    "$\\left \\Vert \\textbf{E} \\right \\|^2 = \\sum_{i}{\\textbf{E}_i}^2$\n",
    "\n",
    "A seguir é mostrado uma implementação matricial desta função:"
   ]
  },
  {
   "cell_type": "markdown",
   "id": "c431c48c",
   "metadata": {},
   "source": [
    "<u>Apenas para auxiliar no entendimento</u>:"
   ]
  },
  {
   "cell_type": "markdown",
   "id": "75104c71",
   "metadata": {},
   "source": [
    "Caso de apenas um $w^T = \\begin{bmatrix} w_0 \\\\ w_1\\end{bmatrix}$ com shape(2,1):\n",
    "\n",
    "$$ \\begin{matrix}\n",
    "e &=& \\begin{bmatrix}\n",
    "1 & x_0 \\\\ \n",
    "1 & x_1 \\\\\n",
    "1 & x_2 \\\\\n",
    "\\vdots & \\vdots \\\\\n",
    "1 & x_{M-1}\n",
    "\\end{bmatrix} &\n",
    "\\begin{bmatrix}\n",
    "w_0\\\\ \n",
    "w_1\n",
    "\\end{bmatrix} &-& \\begin{bmatrix}\n",
    "y_0\\\\ \n",
    "y_1\\\\ \n",
    "\\vdots\\\\ \n",
    "y_{M-1}\\\\ \n",
    "\\end{bmatrix} &=& \\begin{bmatrix}\n",
    "e_0\\\\ \n",
    "e_1\\\\ \n",
    "\\vdots\\\\ \n",
    "e_{M-1}\\\\ \n",
    "\\end{bmatrix}\\\\\n",
    "& & (M,2) & (2,1) & & (M,1) & & (M,1)\n",
    " \\end{matrix} $$ \n",
    "\n",
    "$$ J = \\frac{1}{M}\\sum_{i=0}^{M-1} e_i^2 $$"
   ]
  },
  {
   "cell_type": "markdown",
   "id": "1c6247f9",
   "metadata": {},
   "source": [
    "<u>Otimizar a função custo, significa</u>:"
   ]
  },
  {
   "cell_type": "markdown",
   "id": "e9eaae5a",
   "metadata": {},
   "source": [
    "<figure>\n",
    "  <img src=\"images/grad_j.png\">\n",
    "  <figcaption style=\"text-align:center;font-style: italic;padding: 2px;\">Figura 3 - Otimização da Função Custo.</figcaption>\n",
    "</figure>"
   ]
  },
  {
   "cell_type": "markdown",
   "id": "16e51732",
   "metadata": {},
   "source": [
    "O gradiente da função custo ($\\mathbf{\\nabla{J_w}}$) para este caso onde \n",
    "$\\mathbf{w}=\\begin{bmatrix}w_0 & w_1\\end{bmatrix}$ é um vetor de derivadas partiais:\n",
    "\n",
    "$$ \\mathbf{\\nabla{J_w}} = \\begin{bmatrix} \\frac{\\partial J}{\\partial w_0} & \\frac{\\partial J}{\\partial w_1}\\end{bmatrix} $$"
   ]
  },
  {
   "cell_type": "markdown",
   "id": "2a8cfcbe",
   "metadata": {},
   "source": [
    "Vamos inicialmente calcular o gradiente para uma única amostra e depois iremos generalizar para $N$ amostras. O custo para uma amostra é dado por:\n",
    "\n",
    "$$ J = (\\hat{y} - y)^2 = (\\begin{bmatrix} w_0 & w_1 \\end{bmatrix}\\begin{bmatrix} x_0 \\\\ x_1 \\end{bmatrix}  - y)^2\n",
    "     = (\\mathbf{wx} - y)^2$$\n",
    "     \n",
    "$$ J = (w_0 x_0 + w_1 x_1 - y)^2 $$\n",
    "\n",
    "$$ \\frac{\\partial J}{\\partial w_0} = 2 x_0 (w_0 x_0 + w_1 x_1 - y) = 2 x_0 (\\mathbf{wx} - y)$$\n",
    "$$ \\frac{\\partial J}{\\partial w_1} = 2 x_1 (w_0 x_0 + w_1 x_1 - y) = 2 x_1 (\\mathbf{wx} - y)$$\n",
    "\n",
    "$$\\begin{bmatrix} \\frac{\\partial J}{\\partial w_0} & \\frac{\\partial J}{\\partial w_1}\\end{bmatrix} =\n",
    "\\begin{bmatrix} 2 x_0 (\\mathbf{wx} - y) & 2 x_1 (\\mathbf{wx} - y)\\end{bmatrix} = 2(\\mathbf{wx} - y)\\mathbf{x}^T\n",
    "$$\n",
    "\n",
    "Assim, o gradiente para uma amostra é dado por:\n",
    "$$ \\mathbf{\\nabla{J_w}} = 2(\\mathbf{wx} - y)\\mathbf{x}^T $$"
   ]
  },
  {
   "cell_type": "markdown",
   "id": "acd30413",
   "metadata": {},
   "source": [
    "Vimos anteriormente que quando processamos com várias amostras simultaneamente, utilizamos a matrix $\\mathbf{X}$\n",
    "onde cada linha se refere a uma amostra transposta: ($\\mathbf{x}^T$):\n",
    "\n",
    "$$ \\mathbf{X} = \\begin{bmatrix}\n",
    "\\longleftarrow & (\\mathbf{x}^{(0)})^T & \\longrightarrow \\\\ \n",
    "\\longleftarrow & (\\mathbf{x}^{(1)})^T & \\longrightarrow \\\\ \n",
    "  & \\vdots  & \\\\ \n",
    "\\longleftarrow & (\\mathbf{x}^{(M-1)})^T & \\longrightarrow \n",
    "\\end{bmatrix} = \\begin{bmatrix}\n",
    "x_{0,0} & x_{0,1} \\\\\n",
    "x_{1,0} & x_{1,1} \\\\\n",
    "\\vdots  & \\vdots  \\\\ \n",
    "x_{M,0} & x_{M,1} \\\\\n",
    "\\end{bmatrix} $$\n",
    "\n",
    "Assim, é preciso tirar a transposta da equação do gradiente para uma amostra, trocando o vetor \n",
    "$\\mathbf{x}^T$ por $\\mathbf{X}$ e o escalar $y$ por um vetor $\\mathbf{y}^T$:\n",
    "\n",
    "$$  (\\mathbf{\\nabla{J_w}})^T = \\frac{2}{N}((\\mathbf{WX^T} - \\mathbf{Y}^T)\\mathbf{X})^T $$,\n",
    "$$  (\\mathbf{\\nabla{J_w}})^T = \\frac{2}{N}\\mathbf{X}^T(\\mathbf{XW^T} - \\mathbf{Y}) $$"
   ]
  },
  {
   "cell_type": "markdown",
   "id": "ba427ac3",
   "metadata": {},
   "source": [
    "Na equação da atualização do $\\mathbf{W}$ a seguir, o fator $\\eta$ é denominado *learning rate*. Ele é um parâmetro de ajuste fundamental para o sucesso da otimização: \n",
    "\n",
    "$$ \\mathbf{W}^T = \\mathbf{W}^T − \\eta (\\mathbf{\\nabla J_w})^T $$\n",
    "\n",
    "Desta forma então, calculando-se o gradiente de $J(\\mathbf{W})$ e substituindo na equação acima temos:\n",
    "\n",
    "$$ \\mathbf{W}^T = \\mathbf{W}^T − \\eta \\frac{2}{N}(\\mathbf{X}^T(\\mathbf{X}\\mathbf{W}^T−\\mathbf{Y})) $$\n",
    "\n",
    "Observe que cada atualização dos pesos, o cálculo do gradiente leva em conta todas as amostras\n",
    "de dados que estão representados na matriz $\\mathbf{X}$ que possui $N$ linhas (amostras)."
   ]
  },
  {
   "cell_type": "markdown",
   "id": "a2099486",
   "metadata": {},
   "source": [
    "## Experimento Prático"
   ]
  },
  {
   "cell_type": "markdown",
   "id": "2d89f12c",
   "metadata": {},
   "source": [
    "<div style=\"text-align:justify\">\n",
    "Neste experimento prático vamos utilizar o conjunto de dados <a href=\"https://archive.ics.uci.edu/ml/datasets/iris\">Iris</a>.\n",
    "</div>"
   ]
  },
  {
   "cell_type": "markdown",
   "id": "e71e6b0f",
   "metadata": {},
   "source": [
    "### Carregando Pacotes"
   ]
  },
  {
   "cell_type": "code",
   "execution_count": 1,
   "id": "1c7bf0d0",
   "metadata": {},
   "outputs": [],
   "source": [
    "%matplotlib inline\n",
    "\n",
    "import pandas, numpy\n",
    "import matplotlib.pyplot as plt\n",
    "from mlxtend.plotting import plot_decision_regions\n",
    "from time import time\n",
    "\n",
    "plt.rcParams['figure.figsize'] = [15, 7]"
   ]
  },
  {
   "cell_type": "markdown",
   "id": "75e62f32",
   "metadata": {},
   "source": [
    "### Carregando Dados"
   ]
  },
  {
   "cell_type": "code",
   "execution_count": 2,
   "id": "9282d36b",
   "metadata": {},
   "outputs": [
    {
     "data": {
      "text/html": [
       "<div>\n",
       "<style scoped>\n",
       "    .dataframe tbody tr th:only-of-type {\n",
       "        vertical-align: middle;\n",
       "    }\n",
       "\n",
       "    .dataframe tbody tr th {\n",
       "        vertical-align: top;\n",
       "    }\n",
       "\n",
       "    .dataframe thead th {\n",
       "        text-align: right;\n",
       "    }\n",
       "</style>\n",
       "<table border=\"1\" class=\"dataframe\">\n",
       "  <thead>\n",
       "    <tr style=\"text-align: right;\">\n",
       "      <th></th>\n",
       "      <th>0</th>\n",
       "      <th>1</th>\n",
       "      <th>2</th>\n",
       "      <th>3</th>\n",
       "      <th>4</th>\n",
       "    </tr>\n",
       "  </thead>\n",
       "  <tbody>\n",
       "    <tr>\n",
       "      <th>0</th>\n",
       "      <td>5.1</td>\n",
       "      <td>3.5</td>\n",
       "      <td>1.4</td>\n",
       "      <td>0.2</td>\n",
       "      <td>Iris-setosa</td>\n",
       "    </tr>\n",
       "    <tr>\n",
       "      <th>1</th>\n",
       "      <td>4.9</td>\n",
       "      <td>3.0</td>\n",
       "      <td>1.4</td>\n",
       "      <td>0.2</td>\n",
       "      <td>Iris-setosa</td>\n",
       "    </tr>\n",
       "    <tr>\n",
       "      <th>2</th>\n",
       "      <td>4.7</td>\n",
       "      <td>3.2</td>\n",
       "      <td>1.3</td>\n",
       "      <td>0.2</td>\n",
       "      <td>Iris-setosa</td>\n",
       "    </tr>\n",
       "    <tr>\n",
       "      <th>3</th>\n",
       "      <td>4.6</td>\n",
       "      <td>3.1</td>\n",
       "      <td>1.5</td>\n",
       "      <td>0.2</td>\n",
       "      <td>Iris-setosa</td>\n",
       "    </tr>\n",
       "    <tr>\n",
       "      <th>4</th>\n",
       "      <td>5.0</td>\n",
       "      <td>3.6</td>\n",
       "      <td>1.4</td>\n",
       "      <td>0.2</td>\n",
       "      <td>Iris-setosa</td>\n",
       "    </tr>\n",
       "  </tbody>\n",
       "</table>\n",
       "</div>"
      ],
      "text/plain": [
       "     0    1    2    3            4\n",
       "0  5.1  3.5  1.4  0.2  Iris-setosa\n",
       "1  4.9  3.0  1.4  0.2  Iris-setosa\n",
       "2  4.7  3.2  1.3  0.2  Iris-setosa\n",
       "3  4.6  3.1  1.5  0.2  Iris-setosa\n",
       "4  5.0  3.6  1.4  0.2  Iris-setosa"
      ]
     },
     "execution_count": 2,
     "metadata": {},
     "output_type": "execute_result"
    }
   ],
   "source": [
    "df = pandas.read_csv('datasets/iris.csv', header = None)\n",
    "df.head()"
   ]
  },
  {
   "cell_type": "code",
   "execution_count": 3,
   "id": "b862b202",
   "metadata": {},
   "outputs": [
    {
     "data": {
      "text/plain": [
       "Iris-setosa        50\n",
       "Iris-versicolor    50\n",
       "Iris-virginica     50\n",
       "Name: 4, dtype: int64"
      ]
     },
     "execution_count": 3,
     "metadata": {},
     "output_type": "execute_result"
    }
   ],
   "source": [
    "df[4].value_counts()"
   ]
  },
  {
   "cell_type": "markdown",
   "id": "f865dcfd",
   "metadata": {},
   "source": [
    "### Normalizando Atributos"
   ]
  },
  {
   "cell_type": "markdown",
   "id": "d783c4d5",
   "metadata": {},
   "source": [
    "Nomalizando os dados para garantir que as medidas numéricas esteja no domínio do modelo."
   ]
  },
  {
   "cell_type": "code",
   "execution_count": 4,
   "id": "e2b9568c",
   "metadata": {},
   "outputs": [],
   "source": [
    "y = df.iloc[0:100, 4].values\n",
    "y = numpy.where(y == 'Iris-setosa', -1, 1)\n",
    "X = df.iloc[0:100, [0,2]].values\n",
    "\n",
    "X_std = numpy.copy(X)\n",
    "\n",
    "X_std[:,0] = (X[:,0] - X[:,0].min()) / X[:,0].max()\n",
    "X_std[:,1] = (X[:,1] - X[:,1].min()) / X[:,1].max()"
   ]
  },
  {
   "cell_type": "markdown",
   "id": "937e6ae7",
   "metadata": {},
   "source": [
    "### Gradiente Descendente Estocástico"
   ]
  },
  {
   "cell_type": "code",
   "execution_count": 5,
   "id": "1aa8dc5a",
   "metadata": {},
   "outputs": [],
   "source": [
    "class NeuralNetworkSGD(object):\n",
    "\n",
    "    def __init__(self, eta = 0.01, epochs = 50):\n",
    "        self.eta = eta\n",
    "        self.epochs = epochs\n",
    "\n",
    "    def train(self, X, y, reinitialize_weights = True):\n",
    "\n",
    "        if reinitialize_weights:\n",
    "            self.w_ = numpy.zeros(1 + X.shape[1])\n",
    "            \n",
    "        self.cost_ = []\n",
    "\n",
    "        for i in range(self.epochs):\n",
    "            for xi, target in zip(X, y):\n",
    "                output = self.net_input(xi)\n",
    "                error = (target - output)\n",
    "                self.w_[1:] += self.eta * xi.dot(error)\n",
    "                self.w_[0] += self.eta * error\n",
    "\n",
    "            cost = ((y - self.activation(X))**2).mean() / 2.0\n",
    "            self.cost_.append(cost)\n",
    "        return self\n",
    "\n",
    "    def net_input(self, X):\n",
    "        return numpy.dot(X, self.w_[1:]) + self.w_[0]\n",
    "\n",
    "    def activation(self, X):\n",
    "        return self.net_input(X)\n",
    "\n",
    "    def predict(self, X):\n",
    "        print('Coeficientes: {}'.format(self.w_))\n",
    "        return numpy.where(self.activation(X) >= 0.0, 1, -1)"
   ]
  },
  {
   "cell_type": "markdown",
   "id": "cfe6357d",
   "metadata": {},
   "source": [
    "### Representação Gráfica"
   ]
  },
  {
   "cell_type": "code",
   "execution_count": 9,
   "id": "af324c50",
   "metadata": {},
   "outputs": [
    {
     "name": "stdout",
     "output_type": "stream",
     "text": [
      "Coeficientes: [-0.96843551  0.46642896  2.51896439]\n"
     ]
    },
    {
     "data": {
      "image/png": "[encoded data removed]",
      "text/plain": [
       "<Figure size 1080x504 with 1 Axes>"
      ]
     },
     "metadata": {
      "needs_background": "light"
     },
     "output_type": "display_data"
    },
    {
     "data": {
      "image/png": "[encoded data removed]",
      "text/plain": [
       "<Figure size 1080x504 with 1 Axes>"
      ]
     },
     "metadata": {
      "needs_background": "light"
     },
     "output_type": "display_data"
    }
   ],
   "source": [
    "# Modelo\n",
    "model = NeuralNetworkSGD(epochs = 20, eta = 0.01)\n",
    "\n",
    "# Dados randômicos\n",
    "numpy.random.seed(123)\n",
    "idx = numpy.random.permutation(len(y))\n",
    "X_shuffled, y_shuffled =  X_std[idx], y[idx]\n",
    "\n",
    "# Treinamento e Plot\n",
    "model.train(X_shuffled, y_shuffled)\n",
    "plot_decision_regions(X_shuffled, y_shuffled, clf=model)\n",
    "plt.title('Modelo Ajustado')\n",
    "plt.xlabel('sepal length [padronizado]')\n",
    "plt.ylabel('petal length [padronizado]')\n",
    "plt.show()\n",
    "\n",
    "plt.title('Função Custo (perda)')\n",
    "plt.plot(range(1, len(model.cost_) + 1), model.cost_, marker = 'o')\n",
    "plt.xlabel('Iterações')\n",
    "plt.ylabel('Sum Squared Error')\n",
    "plt.show()"
   ]
  }
 ],
 "metadata": {
  "kernelspec": {
   "display_name": "Python 3 (ipykernel)",
   "language": "python",
   "name": "python3"
  },
  "language_info": {
   "codemirror_mode": {
    "name": "ipython",
    "version": 3
   },
   "file_extension": ".py",
   "mimetype": "text/x-python",
   "name": "python",
   "nbconvert_exporter": "python",
   "pygments_lexer": "ipython3",
   "version": "3.8.12"
  }
 },
 "nbformat": 4,
 "nbformat_minor": 5
}
