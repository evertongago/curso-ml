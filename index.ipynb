{
 "cells": [
  {
   "cell_type": "markdown",
   "id": "9ef010a1",
   "metadata": {},
   "source": [
    "# Conteúdo Programático"
   ]
  },
  {
   "cell_type": "markdown",
   "id": "a9115390",
   "metadata": {},
   "source": [
    "## INF-0334 - Tópicos em Engenharia de Software I (Machine Learning)"
   ]
  },
  {
   "cell_type": "markdown",
   "id": "b5bc5338",
   "metadata": {},
   "source": [
    "### [Aula 1](aula-i.ipynb)"
   ]
  },
  {
   "cell_type": "markdown",
   "id": "a03855c6",
   "metadata": {},
   "source": [
    "- Apresentação da disciplina\n",
    "- Introdução ao aprendizado de máquina <i>(machine learning)</i>\n",
    "- Preparação do ambiente de trabalho e requisitos para o curso"
   ]
  },
  {
   "cell_type": "markdown",
   "id": "23e85561",
   "metadata": {},
   "source": [
    "### [Aula 2](aula-ii.ipynb)"
   ]
  },
  {
   "cell_type": "markdown",
   "id": "434f833b",
   "metadata": {},
   "source": [
    "- Redes Neurais Artificiais\n",
    "- Visão geral e fundamentação teórica\n",
    "- Experimento prático"
   ]
  },
  {
   "cell_type": "markdown",
   "id": "7f1d84b2",
   "metadata": {},
   "source": [
    "### Aula 3"
   ]
  },
  {
   "cell_type": "markdown",
   "id": "a6547fec",
   "metadata": {},
   "source": [
    "- Introdução ao TensorFlow\n",
    "- Visão geral e arquitetural das RNA\n",
    "- Implementando uma rede densa para classificação"
   ]
  },
  {
   "cell_type": "markdown",
   "id": "19c119aa",
   "metadata": {},
   "source": [
    "### Aula 4"
   ]
  },
  {
   "cell_type": "markdown",
   "id": "135f9925",
   "metadata": {},
   "source": [
    "- Avaliando o modelo\n",
    "- Incluindo regularização e camadas de dropout"
   ]
  },
  {
   "cell_type": "markdown",
   "id": "f8de2a40",
   "metadata": {},
   "source": [
    "### Aula 5"
   ]
  },
  {
   "cell_type": "markdown",
   "id": "7d124016",
   "metadata": {},
   "source": [
    "- Revisão e encerramento"
   ]
  }
 ],
 "metadata": {
  "kernelspec": {
   "display_name": "Python 3 (ipykernel)",
   "language": "python",
   "name": "python3"
  },
  "language_info": {
   "codemirror_mode": {
    "name": "ipython",
    "version": 3
   },
   "file_extension": ".py",
   "mimetype": "text/x-python",
   "name": "python",
   "nbconvert_exporter": "python",
   "pygments_lexer": "ipython3",
   "version": "3.8.12"
  }
 },
 "nbformat": 4,
 "nbformat_minor": 5
}
